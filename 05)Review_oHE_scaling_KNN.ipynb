{
 "cells": [
  {
   "cell_type": "markdown",
   "id": "9b20d571",
   "metadata": {},
   "source": [
    "- __01)One Hot Encoding__\n",
    "- __02)missing data__"
   ]
  },
  {
   "cell_type": "code",
   "execution_count": 5,
   "id": "9fe5a5bb",
   "metadata": {},
   "outputs": [],
   "source": [
    "import pandas as pd\n",
    "import numpy as np"
   ]
  },
  {
   "cell_type": "code",
   "execution_count": 6,
   "id": "1b632fc4",
   "metadata": {},
   "outputs": [],
   "source": [
    "data_raw = pd.read_csv(\"G:\\\\Data_analyst\\\\05)data prepration\\\\heart.csv\")\n",
    "data = data_raw.copy()"
   ]
  },
  {
   "cell_type": "code",
   "execution_count": 7,
   "id": "5d4dfb4b",
   "metadata": {},
   "outputs": [
    {
     "data": {
      "text/html": [
       "<div>\n",
       "<style scoped>\n",
       "    .dataframe tbody tr th:only-of-type {\n",
       "        vertical-align: middle;\n",
       "    }\n",
       "\n",
       "    .dataframe tbody tr th {\n",
       "        vertical-align: top;\n",
       "    }\n",
       "\n",
       "    .dataframe thead th {\n",
       "        text-align: right;\n",
       "    }\n",
       "</style>\n",
       "<table border=\"1\" class=\"dataframe\">\n",
       "  <thead>\n",
       "    <tr style=\"text-align: right;\">\n",
       "      <th></th>\n",
       "      <th>Age</th>\n",
       "      <th>Sex</th>\n",
       "      <th>ChestPainType</th>\n",
       "      <th>RestingBP</th>\n",
       "      <th>Cholesterol</th>\n",
       "      <th>FastingBS</th>\n",
       "      <th>RestingECG</th>\n",
       "      <th>MaxHR</th>\n",
       "      <th>ExerciseAngina</th>\n",
       "      <th>Oldpeak</th>\n",
       "      <th>ST_Slope</th>\n",
       "      <th>HeartDisease</th>\n",
       "    </tr>\n",
       "  </thead>\n",
       "  <tbody>\n",
       "    <tr>\n",
       "      <th>0</th>\n",
       "      <td>40</td>\n",
       "      <td>M</td>\n",
       "      <td>ATA</td>\n",
       "      <td>140</td>\n",
       "      <td>289</td>\n",
       "      <td>0</td>\n",
       "      <td>Normal</td>\n",
       "      <td>172</td>\n",
       "      <td>N</td>\n",
       "      <td>0.0</td>\n",
       "      <td>Up</td>\n",
       "      <td>0</td>\n",
       "    </tr>\n",
       "    <tr>\n",
       "      <th>1</th>\n",
       "      <td>49</td>\n",
       "      <td>F</td>\n",
       "      <td>NAP</td>\n",
       "      <td>160</td>\n",
       "      <td>180</td>\n",
       "      <td>0</td>\n",
       "      <td>Normal</td>\n",
       "      <td>156</td>\n",
       "      <td>N</td>\n",
       "      <td>1.0</td>\n",
       "      <td>Flat</td>\n",
       "      <td>1</td>\n",
       "    </tr>\n",
       "    <tr>\n",
       "      <th>2</th>\n",
       "      <td>37</td>\n",
       "      <td>M</td>\n",
       "      <td>ATA</td>\n",
       "      <td>130</td>\n",
       "      <td>283</td>\n",
       "      <td>0</td>\n",
       "      <td>ST</td>\n",
       "      <td>98</td>\n",
       "      <td>N</td>\n",
       "      <td>0.0</td>\n",
       "      <td>Up</td>\n",
       "      <td>0</td>\n",
       "    </tr>\n",
       "    <tr>\n",
       "      <th>3</th>\n",
       "      <td>48</td>\n",
       "      <td>F</td>\n",
       "      <td>ASY</td>\n",
       "      <td>138</td>\n",
       "      <td>214</td>\n",
       "      <td>0</td>\n",
       "      <td>Normal</td>\n",
       "      <td>108</td>\n",
       "      <td>Y</td>\n",
       "      <td>1.5</td>\n",
       "      <td>Flat</td>\n",
       "      <td>1</td>\n",
       "    </tr>\n",
       "    <tr>\n",
       "      <th>4</th>\n",
       "      <td>54</td>\n",
       "      <td>M</td>\n",
       "      <td>NAP</td>\n",
       "      <td>150</td>\n",
       "      <td>195</td>\n",
       "      <td>0</td>\n",
       "      <td>Normal</td>\n",
       "      <td>122</td>\n",
       "      <td>N</td>\n",
       "      <td>0.0</td>\n",
       "      <td>Up</td>\n",
       "      <td>0</td>\n",
       "    </tr>\n",
       "  </tbody>\n",
       "</table>\n",
       "</div>"
      ],
      "text/plain": [
       "   Age Sex ChestPainType  RestingBP  Cholesterol  FastingBS RestingECG  MaxHR  \\\n",
       "0   40   M           ATA        140          289          0     Normal    172   \n",
       "1   49   F           NAP        160          180          0     Normal    156   \n",
       "2   37   M           ATA        130          283          0         ST     98   \n",
       "3   48   F           ASY        138          214          0     Normal    108   \n",
       "4   54   M           NAP        150          195          0     Normal    122   \n",
       "\n",
       "  ExerciseAngina  Oldpeak ST_Slope  HeartDisease  \n",
       "0              N      0.0       Up             0  \n",
       "1              N      1.0     Flat             1  \n",
       "2              N      0.0       Up             0  \n",
       "3              Y      1.5     Flat             1  \n",
       "4              N      0.0       Up             0  "
      ]
     },
     "execution_count": 7,
     "metadata": {},
     "output_type": "execute_result"
    }
   ],
   "source": [
    "data.head()"
   ]
  },
  {
   "cell_type": "markdown",
   "id": "27d7c5c5",
   "metadata": {},
   "source": [
    "#### Replacing 0 numbers which are our null numbers in RestingBP and Cholesterol."
   ]
  },
  {
   "cell_type": "code",
   "execution_count": 8,
   "id": "ae7615a4",
   "metadata": {},
   "outputs": [],
   "source": [
    "data.replace({\"RestingBP\" : 0, \"Cholesterol\" : 0 }, np.nan,inplace=True)"
   ]
  },
  {
   "cell_type": "code",
   "execution_count": 9,
   "id": "10a1a7e2",
   "metadata": {
    "scrolled": true
   },
   "outputs": [
    {
     "data": {
      "text/plain": [
       "Age                 0\n",
       "Sex                 0\n",
       "ChestPainType       0\n",
       "RestingBP           1\n",
       "Cholesterol       172\n",
       "FastingBS           0\n",
       "RestingECG          0\n",
       "MaxHR               0\n",
       "ExerciseAngina      0\n",
       "Oldpeak             0\n",
       "ST_Slope            0\n",
       "HeartDisease        0\n",
       "dtype: int64"
      ]
     },
     "execution_count": 9,
     "metadata": {},
     "output_type": "execute_result"
    }
   ],
   "source": [
    "data.isna().sum()"
   ]
  },
  {
   "cell_type": "markdown",
   "id": "8d6f58d6",
   "metadata": {},
   "source": [
    "## 01)One Hot Encoding"
   ]
  },
  {
   "cell_type": "markdown",
   "id": "49310ebe",
   "metadata": {},
   "source": [
    "#### Separating the data into number part and object part in order to do One_Hot_Encoding."
   ]
  },
  {
   "cell_type": "code",
   "execution_count": 10,
   "id": "cfc6e6db",
   "metadata": {},
   "outputs": [
    {
     "name": "stdout",
     "output_type": "stream",
     "text": [
      "<class 'pandas.core.frame.DataFrame'>\n",
      "RangeIndex: 918 entries, 0 to 917\n",
      "Data columns (total 12 columns):\n",
      " #   Column          Non-Null Count  Dtype  \n",
      "---  ------          --------------  -----  \n",
      " 0   Age             918 non-null    int64  \n",
      " 1   Sex             918 non-null    object \n",
      " 2   ChestPainType   918 non-null    object \n",
      " 3   RestingBP       917 non-null    float64\n",
      " 4   Cholesterol     746 non-null    float64\n",
      " 5   FastingBS       918 non-null    int64  \n",
      " 6   RestingECG      918 non-null    object \n",
      " 7   MaxHR           918 non-null    int64  \n",
      " 8   ExerciseAngina  918 non-null    object \n",
      " 9   Oldpeak         918 non-null    float64\n",
      " 10  ST_Slope        918 non-null    object \n",
      " 11  HeartDisease    918 non-null    int64  \n",
      "dtypes: float64(3), int64(4), object(5)\n",
      "memory usage: 86.2+ KB\n"
     ]
    }
   ],
   "source": [
    "data.info()"
   ]
  },
  {
   "cell_type": "code",
   "execution_count": 11,
   "id": "083d4d92",
   "metadata": {},
   "outputs": [],
   "source": [
    "data_number = data.select_dtypes([\"float64\",\"int64\"]).iloc[:,:-1]\n",
    "data_object = data.select_dtypes(\"object\")\n",
    "data_label  = data.iloc[:,-1].values"
   ]
  },
  {
   "cell_type": "markdown",
   "id": "43c13c93",
   "metadata": {},
   "source": [
    "##### labeling objects in rows:"
   ]
  },
  {
   "cell_type": "code",
   "execution_count": 12,
   "id": "9cf200b9",
   "metadata": {},
   "outputs": [],
   "source": [
    "from sklearn.preprocessing import LabelEncoder"
   ]
  },
  {
   "cell_type": "code",
   "execution_count": 13,
   "id": "f066d353",
   "metadata": {},
   "outputs": [],
   "source": [
    "label_encoder = LabelEncoder()"
   ]
  },
  {
   "cell_type": "code",
   "execution_count": 14,
   "id": "09353e3c",
   "metadata": {},
   "outputs": [],
   "source": [
    "data_object = data_object.apply(label_encoder.fit_transform)"
   ]
  },
  {
   "cell_type": "code",
   "execution_count": 15,
   "id": "3ee71131",
   "metadata": {},
   "outputs": [
    {
     "data": {
      "text/html": [
       "<div>\n",
       "<style scoped>\n",
       "    .dataframe tbody tr th:only-of-type {\n",
       "        vertical-align: middle;\n",
       "    }\n",
       "\n",
       "    .dataframe tbody tr th {\n",
       "        vertical-align: top;\n",
       "    }\n",
       "\n",
       "    .dataframe thead th {\n",
       "        text-align: right;\n",
       "    }\n",
       "</style>\n",
       "<table border=\"1\" class=\"dataframe\">\n",
       "  <thead>\n",
       "    <tr style=\"text-align: right;\">\n",
       "      <th></th>\n",
       "      <th>Sex</th>\n",
       "      <th>ChestPainType</th>\n",
       "      <th>RestingECG</th>\n",
       "      <th>ExerciseAngina</th>\n",
       "      <th>ST_Slope</th>\n",
       "    </tr>\n",
       "  </thead>\n",
       "  <tbody>\n",
       "    <tr>\n",
       "      <th>0</th>\n",
       "      <td>1</td>\n",
       "      <td>1</td>\n",
       "      <td>1</td>\n",
       "      <td>0</td>\n",
       "      <td>2</td>\n",
       "    </tr>\n",
       "    <tr>\n",
       "      <th>1</th>\n",
       "      <td>0</td>\n",
       "      <td>2</td>\n",
       "      <td>1</td>\n",
       "      <td>0</td>\n",
       "      <td>1</td>\n",
       "    </tr>\n",
       "    <tr>\n",
       "      <th>2</th>\n",
       "      <td>1</td>\n",
       "      <td>1</td>\n",
       "      <td>2</td>\n",
       "      <td>0</td>\n",
       "      <td>2</td>\n",
       "    </tr>\n",
       "    <tr>\n",
       "      <th>3</th>\n",
       "      <td>0</td>\n",
       "      <td>0</td>\n",
       "      <td>1</td>\n",
       "      <td>1</td>\n",
       "      <td>1</td>\n",
       "    </tr>\n",
       "    <tr>\n",
       "      <th>4</th>\n",
       "      <td>1</td>\n",
       "      <td>2</td>\n",
       "      <td>1</td>\n",
       "      <td>0</td>\n",
       "      <td>2</td>\n",
       "    </tr>\n",
       "    <tr>\n",
       "      <th>...</th>\n",
       "      <td>...</td>\n",
       "      <td>...</td>\n",
       "      <td>...</td>\n",
       "      <td>...</td>\n",
       "      <td>...</td>\n",
       "    </tr>\n",
       "    <tr>\n",
       "      <th>913</th>\n",
       "      <td>1</td>\n",
       "      <td>3</td>\n",
       "      <td>1</td>\n",
       "      <td>0</td>\n",
       "      <td>1</td>\n",
       "    </tr>\n",
       "    <tr>\n",
       "      <th>914</th>\n",
       "      <td>1</td>\n",
       "      <td>0</td>\n",
       "      <td>1</td>\n",
       "      <td>0</td>\n",
       "      <td>1</td>\n",
       "    </tr>\n",
       "    <tr>\n",
       "      <th>915</th>\n",
       "      <td>1</td>\n",
       "      <td>0</td>\n",
       "      <td>1</td>\n",
       "      <td>1</td>\n",
       "      <td>1</td>\n",
       "    </tr>\n",
       "    <tr>\n",
       "      <th>916</th>\n",
       "      <td>0</td>\n",
       "      <td>1</td>\n",
       "      <td>0</td>\n",
       "      <td>0</td>\n",
       "      <td>1</td>\n",
       "    </tr>\n",
       "    <tr>\n",
       "      <th>917</th>\n",
       "      <td>1</td>\n",
       "      <td>2</td>\n",
       "      <td>1</td>\n",
       "      <td>0</td>\n",
       "      <td>2</td>\n",
       "    </tr>\n",
       "  </tbody>\n",
       "</table>\n",
       "<p>918 rows × 5 columns</p>\n",
       "</div>"
      ],
      "text/plain": [
       "     Sex  ChestPainType  RestingECG  ExerciseAngina  ST_Slope\n",
       "0      1              1           1               0         2\n",
       "1      0              2           1               0         1\n",
       "2      1              1           2               0         2\n",
       "3      0              0           1               1         1\n",
       "4      1              2           1               0         2\n",
       "..   ...            ...         ...             ...       ...\n",
       "913    1              3           1               0         1\n",
       "914    1              0           1               0         1\n",
       "915    1              0           1               1         1\n",
       "916    0              1           0               0         1\n",
       "917    1              2           1               0         2\n",
       "\n",
       "[918 rows x 5 columns]"
      ]
     },
     "execution_count": 15,
     "metadata": {},
     "output_type": "execute_result"
    }
   ],
   "source": [
    "data_object"
   ]
  },
  {
   "cell_type": "code",
   "execution_count": 16,
   "id": "0beb9e30",
   "metadata": {},
   "outputs": [
    {
     "data": {
      "text/plain": [
       "Sex               2\n",
       "ChestPainType     4\n",
       "RestingECG        3\n",
       "ExerciseAngina    2\n",
       "ST_Slope          3\n",
       "dtype: int64"
      ]
     },
     "execution_count": 16,
     "metadata": {},
     "output_type": "execute_result"
    }
   ],
   "source": [
    "data_object.nunique()"
   ]
  },
  {
   "cell_type": "markdown",
   "id": "f09cd3b8",
   "metadata": {},
   "source": [
    "__Since \"Sex\" and \"ExerciseAngina\" have only 2 values (0 and 1) we do not implement on hot encoding on them, in order not to meke more columns.__\n"
   ]
  },
  {
   "cell_type": "markdown",
   "id": "4a81f6fd",
   "metadata": {},
   "source": [
    "#### separatin sex and ExerciseAngina columns:"
   ]
  },
  {
   "cell_type": "code",
   "execution_count": 17,
   "id": "f77e6cb5",
   "metadata": {},
   "outputs": [],
   "source": [
    "data_object_binary = data_object[[\"Sex\" , \"ExerciseAngina\"]]"
   ]
  },
  {
   "cell_type": "code",
   "execution_count": 18,
   "id": "2bb19667",
   "metadata": {},
   "outputs": [],
   "source": [
    "data_object_ohe = data_object[[\"ChestPainType\" , \"RestingECG\" , \"ST_Slope\"]]"
   ]
  },
  {
   "cell_type": "markdown",
   "id": "4fa3ab49",
   "metadata": {},
   "source": [
    "#### One_Hot_Encoding"
   ]
  },
  {
   "cell_type": "code",
   "execution_count": 19,
   "id": "3cf4b095",
   "metadata": {},
   "outputs": [],
   "source": [
    "from sklearn.preprocessing import OneHotEncoder"
   ]
  },
  {
   "cell_type": "code",
   "execution_count": 20,
   "id": "c743ffb1",
   "metadata": {},
   "outputs": [],
   "source": [
    "ohe = OneHotEncoder()"
   ]
  },
  {
   "cell_type": "code",
   "execution_count": 21,
   "id": "c97d913d",
   "metadata": {},
   "outputs": [],
   "source": [
    "data_object_ohe = ohe.fit_transform(data_object_ohe[[\"ChestPainType\" , \"RestingECG\" , \"ST_Slope\"]].values).toarray()"
   ]
  },
  {
   "cell_type": "code",
   "execution_count": 22,
   "id": "990b7e86",
   "metadata": {},
   "outputs": [
    {
     "name": "stdout",
     "output_type": "stream",
     "text": [
      "       0    1    2    3    4    5    6    7    8    9\n",
      "0    0.0  1.0  0.0  0.0  0.0  1.0  0.0  0.0  0.0  1.0\n",
      "1    0.0  0.0  1.0  0.0  0.0  1.0  0.0  0.0  1.0  0.0\n",
      "2    0.0  1.0  0.0  0.0  0.0  0.0  1.0  0.0  0.0  1.0\n",
      "3    1.0  0.0  0.0  0.0  0.0  1.0  0.0  0.0  1.0  0.0\n",
      "4    0.0  0.0  1.0  0.0  0.0  1.0  0.0  0.0  0.0  1.0\n",
      "..   ...  ...  ...  ...  ...  ...  ...  ...  ...  ...\n",
      "913  0.0  0.0  0.0  1.0  0.0  1.0  0.0  0.0  1.0  0.0\n",
      "914  1.0  0.0  0.0  0.0  0.0  1.0  0.0  0.0  1.0  0.0\n",
      "915  1.0  0.0  0.0  0.0  0.0  1.0  0.0  0.0  1.0  0.0\n",
      "916  0.0  1.0  0.0  0.0  1.0  0.0  0.0  0.0  1.0  0.0\n",
      "917  0.0  0.0  1.0  0.0  0.0  1.0  0.0  0.0  0.0  1.0\n",
      "\n",
      "[918 rows x 10 columns]\n"
     ]
    }
   ],
   "source": [
    "print(pd.DataFrame(data_object_ohe))"
   ]
  },
  {
   "cell_type": "markdown",
   "id": "c7d78e06",
   "metadata": {},
   "source": [
    "#### Conacat all separated data"
   ]
  },
  {
   "cell_type": "code",
   "execution_count": 23,
   "id": "24648d23",
   "metadata": {},
   "outputs": [
    {
     "data": {
      "text/plain": [
       "(918, 6)"
      ]
     },
     "execution_count": 23,
     "metadata": {},
     "output_type": "execute_result"
    }
   ],
   "source": [
    "data_number.shape"
   ]
  },
  {
   "cell_type": "code",
   "execution_count": 20,
   "id": "be8679e4",
   "metadata": {},
   "outputs": [],
   "source": [
    "data_final = np.concatenate([data_number.values , data_object_binary.values , data_object_ohe], axis=1)"
   ]
  },
  {
   "cell_type": "code",
   "execution_count": 21,
   "id": "6db2618b",
   "metadata": {},
   "outputs": [
    {
     "name": "stdout",
     "output_type": "stream",
     "text": [
      "       0      1      2    3      4    5    6    7    8    9    10   11   12  \\\n",
      "0    40.0  140.0  289.0  0.0  172.0  0.0  1.0  0.0  0.0  1.0  0.0  0.0  0.0   \n",
      "1    49.0  160.0  180.0  0.0  156.0  1.0  0.0  0.0  0.0  0.0  1.0  0.0  0.0   \n",
      "2    37.0  130.0  283.0  0.0   98.0  0.0  1.0  0.0  0.0  1.0  0.0  0.0  0.0   \n",
      "3    48.0  138.0  214.0  0.0  108.0  1.5  0.0  1.0  1.0  0.0  0.0  0.0  0.0   \n",
      "4    54.0  150.0  195.0  0.0  122.0  0.0  1.0  0.0  0.0  0.0  1.0  0.0  0.0   \n",
      "..    ...    ...    ...  ...    ...  ...  ...  ...  ...  ...  ...  ...  ...   \n",
      "913  45.0  110.0  264.0  0.0  132.0  1.2  1.0  0.0  0.0  0.0  0.0  1.0  0.0   \n",
      "914  68.0  144.0  193.0  1.0  141.0  3.4  1.0  0.0  1.0  0.0  0.0  0.0  0.0   \n",
      "915  57.0  130.0  131.0  0.0  115.0  1.2  1.0  1.0  1.0  0.0  0.0  0.0  0.0   \n",
      "916  57.0  130.0  236.0  0.0  174.0  0.0  0.0  0.0  0.0  1.0  0.0  0.0  1.0   \n",
      "917  38.0  138.0  175.0  0.0  173.0  0.0  1.0  0.0  0.0  0.0  1.0  0.0  0.0   \n",
      "\n",
      "      13   14   15   16   17  \n",
      "0    1.0  0.0  0.0  0.0  1.0  \n",
      "1    1.0  0.0  0.0  1.0  0.0  \n",
      "2    0.0  1.0  0.0  0.0  1.0  \n",
      "3    1.0  0.0  0.0  1.0  0.0  \n",
      "4    1.0  0.0  0.0  0.0  1.0  \n",
      "..   ...  ...  ...  ...  ...  \n",
      "913  1.0  0.0  0.0  1.0  0.0  \n",
      "914  1.0  0.0  0.0  1.0  0.0  \n",
      "915  1.0  0.0  0.0  1.0  0.0  \n",
      "916  0.0  0.0  0.0  1.0  0.0  \n",
      "917  1.0  0.0  0.0  0.0  1.0  \n",
      "\n",
      "[918 rows x 18 columns]\n"
     ]
    }
   ],
   "source": [
    "print(pd.DataFrame(data_final))"
   ]
  },
  {
   "cell_type": "markdown",
   "id": "68478fe7",
   "metadata": {},
   "source": [
    "##  02)missing data"
   ]
  },
  {
   "cell_type": "markdown",
   "id": "45478b68",
   "metadata": {},
   "source": [
    "__KNNIMputer__"
   ]
  },
  {
   "cell_type": "code",
   "execution_count": 22,
   "id": "2c1f0fb4",
   "metadata": {},
   "outputs": [],
   "source": [
    "from sklearn.impute import KNNImputer"
   ]
  },
  {
   "cell_type": "code",
   "execution_count": 23,
   "id": "959edb10",
   "metadata": {},
   "outputs": [],
   "source": [
    "knn = KNNImputer()"
   ]
  },
  {
   "cell_type": "code",
   "execution_count": 24,
   "id": "e0e8c486",
   "metadata": {},
   "outputs": [],
   "source": [
    "data_nan = knn.fit_transform(data_final)"
   ]
  },
  {
   "cell_type": "code",
   "execution_count": 25,
   "id": "ba93d3bb",
   "metadata": {},
   "outputs": [
    {
     "data": {
      "text/html": [
       "<div>\n",
       "<style scoped>\n",
       "    .dataframe tbody tr th:only-of-type {\n",
       "        vertical-align: middle;\n",
       "    }\n",
       "\n",
       "    .dataframe tbody tr th {\n",
       "        vertical-align: top;\n",
       "    }\n",
       "\n",
       "    .dataframe thead th {\n",
       "        text-align: right;\n",
       "    }\n",
       "</style>\n",
       "<table border=\"1\" class=\"dataframe\">\n",
       "  <thead>\n",
       "    <tr style=\"text-align: right;\">\n",
       "      <th></th>\n",
       "      <th>0</th>\n",
       "      <th>1</th>\n",
       "      <th>2</th>\n",
       "      <th>3</th>\n",
       "      <th>4</th>\n",
       "      <th>5</th>\n",
       "      <th>6</th>\n",
       "      <th>7</th>\n",
       "      <th>8</th>\n",
       "      <th>9</th>\n",
       "      <th>10</th>\n",
       "      <th>11</th>\n",
       "      <th>12</th>\n",
       "      <th>13</th>\n",
       "      <th>14</th>\n",
       "      <th>15</th>\n",
       "      <th>16</th>\n",
       "      <th>17</th>\n",
       "    </tr>\n",
       "  </thead>\n",
       "  <tbody>\n",
       "    <tr>\n",
       "      <th>0</th>\n",
       "      <td>40.0</td>\n",
       "      <td>140.0</td>\n",
       "      <td>289.0</td>\n",
       "      <td>0.0</td>\n",
       "      <td>172.0</td>\n",
       "      <td>0.0</td>\n",
       "      <td>1.0</td>\n",
       "      <td>0.0</td>\n",
       "      <td>0.0</td>\n",
       "      <td>1.0</td>\n",
       "      <td>0.0</td>\n",
       "      <td>0.0</td>\n",
       "      <td>0.0</td>\n",
       "      <td>1.0</td>\n",
       "      <td>0.0</td>\n",
       "      <td>0.0</td>\n",
       "      <td>0.0</td>\n",
       "      <td>1.0</td>\n",
       "    </tr>\n",
       "    <tr>\n",
       "      <th>1</th>\n",
       "      <td>49.0</td>\n",
       "      <td>160.0</td>\n",
       "      <td>180.0</td>\n",
       "      <td>0.0</td>\n",
       "      <td>156.0</td>\n",
       "      <td>1.0</td>\n",
       "      <td>0.0</td>\n",
       "      <td>0.0</td>\n",
       "      <td>0.0</td>\n",
       "      <td>0.0</td>\n",
       "      <td>1.0</td>\n",
       "      <td>0.0</td>\n",
       "      <td>0.0</td>\n",
       "      <td>1.0</td>\n",
       "      <td>0.0</td>\n",
       "      <td>0.0</td>\n",
       "      <td>1.0</td>\n",
       "      <td>0.0</td>\n",
       "    </tr>\n",
       "    <tr>\n",
       "      <th>2</th>\n",
       "      <td>37.0</td>\n",
       "      <td>130.0</td>\n",
       "      <td>283.0</td>\n",
       "      <td>0.0</td>\n",
       "      <td>98.0</td>\n",
       "      <td>0.0</td>\n",
       "      <td>1.0</td>\n",
       "      <td>0.0</td>\n",
       "      <td>0.0</td>\n",
       "      <td>1.0</td>\n",
       "      <td>0.0</td>\n",
       "      <td>0.0</td>\n",
       "      <td>0.0</td>\n",
       "      <td>0.0</td>\n",
       "      <td>1.0</td>\n",
       "      <td>0.0</td>\n",
       "      <td>0.0</td>\n",
       "      <td>1.0</td>\n",
       "    </tr>\n",
       "    <tr>\n",
       "      <th>3</th>\n",
       "      <td>48.0</td>\n",
       "      <td>138.0</td>\n",
       "      <td>214.0</td>\n",
       "      <td>0.0</td>\n",
       "      <td>108.0</td>\n",
       "      <td>1.5</td>\n",
       "      <td>0.0</td>\n",
       "      <td>1.0</td>\n",
       "      <td>1.0</td>\n",
       "      <td>0.0</td>\n",
       "      <td>0.0</td>\n",
       "      <td>0.0</td>\n",
       "      <td>0.0</td>\n",
       "      <td>1.0</td>\n",
       "      <td>0.0</td>\n",
       "      <td>0.0</td>\n",
       "      <td>1.0</td>\n",
       "      <td>0.0</td>\n",
       "    </tr>\n",
       "    <tr>\n",
       "      <th>4</th>\n",
       "      <td>54.0</td>\n",
       "      <td>150.0</td>\n",
       "      <td>195.0</td>\n",
       "      <td>0.0</td>\n",
       "      <td>122.0</td>\n",
       "      <td>0.0</td>\n",
       "      <td>1.0</td>\n",
       "      <td>0.0</td>\n",
       "      <td>0.0</td>\n",
       "      <td>0.0</td>\n",
       "      <td>1.0</td>\n",
       "      <td>0.0</td>\n",
       "      <td>0.0</td>\n",
       "      <td>1.0</td>\n",
       "      <td>0.0</td>\n",
       "      <td>0.0</td>\n",
       "      <td>0.0</td>\n",
       "      <td>1.0</td>\n",
       "    </tr>\n",
       "    <tr>\n",
       "      <th>...</th>\n",
       "      <td>...</td>\n",
       "      <td>...</td>\n",
       "      <td>...</td>\n",
       "      <td>...</td>\n",
       "      <td>...</td>\n",
       "      <td>...</td>\n",
       "      <td>...</td>\n",
       "      <td>...</td>\n",
       "      <td>...</td>\n",
       "      <td>...</td>\n",
       "      <td>...</td>\n",
       "      <td>...</td>\n",
       "      <td>...</td>\n",
       "      <td>...</td>\n",
       "      <td>...</td>\n",
       "      <td>...</td>\n",
       "      <td>...</td>\n",
       "      <td>...</td>\n",
       "    </tr>\n",
       "    <tr>\n",
       "      <th>913</th>\n",
       "      <td>45.0</td>\n",
       "      <td>110.0</td>\n",
       "      <td>264.0</td>\n",
       "      <td>0.0</td>\n",
       "      <td>132.0</td>\n",
       "      <td>1.2</td>\n",
       "      <td>1.0</td>\n",
       "      <td>0.0</td>\n",
       "      <td>0.0</td>\n",
       "      <td>0.0</td>\n",
       "      <td>0.0</td>\n",
       "      <td>1.0</td>\n",
       "      <td>0.0</td>\n",
       "      <td>1.0</td>\n",
       "      <td>0.0</td>\n",
       "      <td>0.0</td>\n",
       "      <td>1.0</td>\n",
       "      <td>0.0</td>\n",
       "    </tr>\n",
       "    <tr>\n",
       "      <th>914</th>\n",
       "      <td>68.0</td>\n",
       "      <td>144.0</td>\n",
       "      <td>193.0</td>\n",
       "      <td>1.0</td>\n",
       "      <td>141.0</td>\n",
       "      <td>3.4</td>\n",
       "      <td>1.0</td>\n",
       "      <td>0.0</td>\n",
       "      <td>1.0</td>\n",
       "      <td>0.0</td>\n",
       "      <td>0.0</td>\n",
       "      <td>0.0</td>\n",
       "      <td>0.0</td>\n",
       "      <td>1.0</td>\n",
       "      <td>0.0</td>\n",
       "      <td>0.0</td>\n",
       "      <td>1.0</td>\n",
       "      <td>0.0</td>\n",
       "    </tr>\n",
       "    <tr>\n",
       "      <th>915</th>\n",
       "      <td>57.0</td>\n",
       "      <td>130.0</td>\n",
       "      <td>131.0</td>\n",
       "      <td>0.0</td>\n",
       "      <td>115.0</td>\n",
       "      <td>1.2</td>\n",
       "      <td>1.0</td>\n",
       "      <td>1.0</td>\n",
       "      <td>1.0</td>\n",
       "      <td>0.0</td>\n",
       "      <td>0.0</td>\n",
       "      <td>0.0</td>\n",
       "      <td>0.0</td>\n",
       "      <td>1.0</td>\n",
       "      <td>0.0</td>\n",
       "      <td>0.0</td>\n",
       "      <td>1.0</td>\n",
       "      <td>0.0</td>\n",
       "    </tr>\n",
       "    <tr>\n",
       "      <th>916</th>\n",
       "      <td>57.0</td>\n",
       "      <td>130.0</td>\n",
       "      <td>236.0</td>\n",
       "      <td>0.0</td>\n",
       "      <td>174.0</td>\n",
       "      <td>0.0</td>\n",
       "      <td>0.0</td>\n",
       "      <td>0.0</td>\n",
       "      <td>0.0</td>\n",
       "      <td>1.0</td>\n",
       "      <td>0.0</td>\n",
       "      <td>0.0</td>\n",
       "      <td>1.0</td>\n",
       "      <td>0.0</td>\n",
       "      <td>0.0</td>\n",
       "      <td>0.0</td>\n",
       "      <td>1.0</td>\n",
       "      <td>0.0</td>\n",
       "    </tr>\n",
       "    <tr>\n",
       "      <th>917</th>\n",
       "      <td>38.0</td>\n",
       "      <td>138.0</td>\n",
       "      <td>175.0</td>\n",
       "      <td>0.0</td>\n",
       "      <td>173.0</td>\n",
       "      <td>0.0</td>\n",
       "      <td>1.0</td>\n",
       "      <td>0.0</td>\n",
       "      <td>0.0</td>\n",
       "      <td>0.0</td>\n",
       "      <td>1.0</td>\n",
       "      <td>0.0</td>\n",
       "      <td>0.0</td>\n",
       "      <td>1.0</td>\n",
       "      <td>0.0</td>\n",
       "      <td>0.0</td>\n",
       "      <td>0.0</td>\n",
       "      <td>1.0</td>\n",
       "    </tr>\n",
       "  </tbody>\n",
       "</table>\n",
       "<p>918 rows × 18 columns</p>\n",
       "</div>"
      ],
      "text/plain": [
       "       0      1      2    3      4    5    6    7    8    9    10   11   12  \\\n",
       "0    40.0  140.0  289.0  0.0  172.0  0.0  1.0  0.0  0.0  1.0  0.0  0.0  0.0   \n",
       "1    49.0  160.0  180.0  0.0  156.0  1.0  0.0  0.0  0.0  0.0  1.0  0.0  0.0   \n",
       "2    37.0  130.0  283.0  0.0   98.0  0.0  1.0  0.0  0.0  1.0  0.0  0.0  0.0   \n",
       "3    48.0  138.0  214.0  0.0  108.0  1.5  0.0  1.0  1.0  0.0  0.0  0.0  0.0   \n",
       "4    54.0  150.0  195.0  0.0  122.0  0.0  1.0  0.0  0.0  0.0  1.0  0.0  0.0   \n",
       "..    ...    ...    ...  ...    ...  ...  ...  ...  ...  ...  ...  ...  ...   \n",
       "913  45.0  110.0  264.0  0.0  132.0  1.2  1.0  0.0  0.0  0.0  0.0  1.0  0.0   \n",
       "914  68.0  144.0  193.0  1.0  141.0  3.4  1.0  0.0  1.0  0.0  0.0  0.0  0.0   \n",
       "915  57.0  130.0  131.0  0.0  115.0  1.2  1.0  1.0  1.0  0.0  0.0  0.0  0.0   \n",
       "916  57.0  130.0  236.0  0.0  174.0  0.0  0.0  0.0  0.0  1.0  0.0  0.0  1.0   \n",
       "917  38.0  138.0  175.0  0.0  173.0  0.0  1.0  0.0  0.0  0.0  1.0  0.0  0.0   \n",
       "\n",
       "      13   14   15   16   17  \n",
       "0    1.0  0.0  0.0  0.0  1.0  \n",
       "1    1.0  0.0  0.0  1.0  0.0  \n",
       "2    0.0  1.0  0.0  0.0  1.0  \n",
       "3    1.0  0.0  0.0  1.0  0.0  \n",
       "4    1.0  0.0  0.0  0.0  1.0  \n",
       "..   ...  ...  ...  ...  ...  \n",
       "913  1.0  0.0  0.0  1.0  0.0  \n",
       "914  1.0  0.0  0.0  1.0  0.0  \n",
       "915  1.0  0.0  0.0  1.0  0.0  \n",
       "916  0.0  0.0  0.0  1.0  0.0  \n",
       "917  1.0  0.0  0.0  0.0  1.0  \n",
       "\n",
       "[918 rows x 18 columns]"
      ]
     },
     "execution_count": 25,
     "metadata": {},
     "output_type": "execute_result"
    }
   ],
   "source": [
    "pd.DataFrame(data_nan)"
   ]
  },
  {
   "cell_type": "code",
   "execution_count": 27,
   "id": "b27fc229",
   "metadata": {},
   "outputs": [
    {
     "data": {
      "text/plain": [
       "0     0\n",
       "1     0\n",
       "2     0\n",
       "3     0\n",
       "4     0\n",
       "5     0\n",
       "6     0\n",
       "7     0\n",
       "8     0\n",
       "9     0\n",
       "10    0\n",
       "11    0\n",
       "12    0\n",
       "13    0\n",
       "14    0\n",
       "15    0\n",
       "16    0\n",
       "17    0\n",
       "dtype: int64"
      ]
     },
     "execution_count": 27,
     "metadata": {},
     "output_type": "execute_result"
    }
   ],
   "source": [
    "pd.DataFrame(data_nan).isna().sum()"
   ]
  }
 ],
 "metadata": {
  "kernelspec": {
   "display_name": "Python 3 (ipykernel)",
   "language": "python",
   "name": "python3"
  },
  "language_info": {
   "codemirror_mode": {
    "name": "ipython",
    "version": 3
   },
   "file_extension": ".py",
   "mimetype": "text/x-python",
   "name": "python",
   "nbconvert_exporter": "python",
   "pygments_lexer": "ipython3",
   "version": "3.10.8"
  }
 },
 "nbformat": 4,
 "nbformat_minor": 5
}
